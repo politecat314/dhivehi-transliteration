{
 "cells": [
  {
   "cell_type": "code",
   "execution_count": 1,
   "id": "3b0e44de",
   "metadata": {},
   "outputs": [],
   "source": [
    "import pandas as pd\n",
    "from datasets import Dataset, DatasetDict\n",
    "\n",
    "from transformers import (\n",
    "    AutoTokenizer,\n",
    "    T5ForConditionalGeneration,\n",
    "    Seq2SeqTrainingArguments,\n",
    "    Seq2SeqTrainer,\n",
    "    DataCollatorForSeq2Seq\n",
    ")"
   ]
  },
  {
   "cell_type": "code",
   "execution_count": 2,
   "id": "fcf27fe0",
   "metadata": {},
   "outputs": [],
   "source": [
    "# --- 1. Configuration ---\n",
    "MODEL_CHECKPOINT = \"alakxender/flan-t5-base-dhivehi-en-latin\"\n",
    "NEW_MODEL_NAME = \"models/flan-t5-base-dv2latin-mihaaru\"\n",
    "SOURCE_LANG = \"dhivehi\"\n",
    "TARGET_LANG = \"latin\"\n",
    "PREFIX = \"dv2latin: \""
   ]
  },
  {
   "cell_type": "markdown",
   "id": "ed79e2ef",
   "metadata": {},
   "source": [
    "## Load the data"
   ]
  },
  {
   "cell_type": "code",
   "execution_count": 3,
   "id": "836083e5",
   "metadata": {},
   "outputs": [],
   "source": [
    "def load_and_prepare_translation_data(train_csv_path: str, test_csv_path: str, source_lang: str, target_lang: str) -> DatasetDict:\n",
    "    \"\"\"\n",
    "    Loads translation data from separate train and test CSV files, cleans it,\n",
    "    and returns a Hugging Face DatasetDict.\n",
    "\n",
    "    Args:\n",
    "        train_csv_path (str): Path to the training CSV file.\n",
    "        test_csv_path (str): Path to the testing CSV file.\n",
    "        source_lang (str): Column name for the source language text.\n",
    "        target_lang (str): Column name for the target language text.\n",
    "\n",
    "    Returns:\n",
    "        DatasetDict: A Hugging Face DatasetDict containing 'train' and 'test' splits.\n",
    "    \"\"\"\n",
    "\n",
    "    # Load training data\n",
    "    df_train = pd.read_csv(train_csv_path)\n",
    "    df_train.dropna(subset=[source_lang, target_lang], inplace=True)\n",
    "    df_train[source_lang] = df_train[source_lang].astype(str)\n",
    "    df_train[target_lang] = df_train[target_lang].astype(str)\n",
    "    train_dataset = Dataset.from_pandas(df_train)\n",
    "\n",
    "    # Load testing data\n",
    "    df_test = pd.read_csv(test_csv_path)\n",
    "    df_test.dropna(subset=[source_lang, target_lang], inplace=True)\n",
    "    df_test[source_lang] = df_test[source_lang].astype(str)\n",
    "    df_test[target_lang] = df_test[target_lang].astype(str)\n",
    "    test_dataset = Dataset.from_pandas(df_test)\n",
    "\n",
    "    # Create a DatasetDict\n",
    "    dataset = DatasetDict({\n",
    "        'train': train_dataset,\n",
    "        'test': test_dataset\n",
    "    })\n",
    "\n",
    "    return dataset"
   ]
  },
  {
   "cell_type": "code",
   "execution_count": 4,
   "id": "cd02b7cd",
   "metadata": {},
   "outputs": [
    {
     "name": "stdout",
     "output_type": "stream",
     "text": [
      "Dataset prepared and split: DatasetDict({\n",
      "    train: Dataset({\n",
      "        features: ['latin', 'dhivehi'],\n",
      "        num_rows: 17979\n",
      "    })\n",
      "    test: Dataset({\n",
      "        features: ['latin', 'dhivehi'],\n",
      "        num_rows: 1998\n",
      "    })\n",
      "})\n"
     ]
    }
   ],
   "source": [
    "dataset = load_and_prepare_translation_data(\"data/train.csv\", \"data/test.csv\", SOURCE_LANG, TARGET_LANG)\n",
    "print(\"Dataset prepared and split:\", dataset)"
   ]
  },
  {
   "cell_type": "markdown",
   "id": "476a2164",
   "metadata": {},
   "source": [
    "## Tokenizer and preprocessing"
   ]
  },
  {
   "cell_type": "code",
   "execution_count": 5,
   "id": "236660b1",
   "metadata": {},
   "outputs": [
    {
     "name": "stdout",
     "output_type": "stream",
     "text": [
      "Loading tokenizer and model from 'alakxender/flan-t5-base-dhivehi-en-latin'...\n"
     ]
    },
    {
     "name": "stderr",
     "output_type": "stream",
     "text": [
      "You set `add_prefix_space`. The tokenizer needs to be converted from the slow tokenizers\n"
     ]
    },
    {
     "name": "stdout",
     "output_type": "stream",
     "text": [
      "Tokenizing the dataset...\n"
     ]
    },
    {
     "data": {
      "application/vnd.jupyter.widget-view+json": {
       "model_id": "d5d140aa725b4dd2a000c9d570b9b65d",
       "version_major": 2,
       "version_minor": 0
      },
      "text/plain": [
       "Map:   0%|          | 0/17979 [00:00<?, ? examples/s]"
      ]
     },
     "metadata": {},
     "output_type": "display_data"
    },
    {
     "name": "stderr",
     "output_type": "stream",
     "text": [
      "c:\\Users\\ahmed\\anaconda3\\envs\\transformers\\Lib\\site-packages\\transformers\\tokenization_utils_base.py:3980: UserWarning: `as_target_tokenizer` is deprecated and will be removed in v5 of Transformers. You can tokenize your labels by using the argument `text_target` of the regular `__call__` method (either in the same call as your input texts if you use the same keyword arguments, or in a separate call.\n",
      "  warnings.warn(\n"
     ]
    },
    {
     "data": {
      "application/vnd.jupyter.widget-view+json": {
       "model_id": "7f11561fbd0a467298465fd7ddd189c1",
       "version_major": 2,
       "version_minor": 0
      },
      "text/plain": [
       "Map:   0%|          | 0/1998 [00:00<?, ? examples/s]"
      ]
     },
     "metadata": {},
     "output_type": "display_data"
    },
    {
     "name": "stdout",
     "output_type": "stream",
     "text": [
      "Tokenization complete.\n"
     ]
    }
   ],
   "source": [
    "# --- 3. Load Tokenizer and Model ---\n",
    "print(f\"Loading tokenizer and model from '{MODEL_CHECKPOINT}'...\")\n",
    "tokenizer = AutoTokenizer.from_pretrained(MODEL_CHECKPOINT)\n",
    "model = T5ForConditionalGeneration.from_pretrained(MODEL_CHECKPOINT)\n",
    "\n",
    "# --- 4. Preprocessing Function ---\n",
    "def preprocess_function(examples):\n",
    "    \"\"\"Tokenizes the source and target texts.\"\"\"\n",
    "    # Add the task-specific prefix to the inputs\n",
    "    inputs = [PREFIX + doc for doc in examples[SOURCE_LANG]]\n",
    "    \n",
    "    # Tokenize the inputs\n",
    "    model_inputs = tokenizer(inputs, max_length=128, truncation=True, padding=\"max_length\")\n",
    "    \n",
    "    # Tokenize the targets (labels)\n",
    "    with tokenizer.as_target_tokenizer():\n",
    "        labels = tokenizer(examples[TARGET_LANG], max_length=128, truncation=True, padding=\"max_length\")\n",
    "    \n",
    "    model_inputs[\"labels\"] = labels[\"input_ids\"]\n",
    "    return model_inputs\n",
    "\n",
    "print(\"Tokenizing the dataset...\")\n",
    "tokenized_datasets = dataset.map(preprocess_function, batched=True)\n",
    "print(\"Tokenization complete.\")"
   ]
  },
  {
   "cell_type": "markdown",
   "id": "5588672b",
   "metadata": {},
   "source": [
    "## Training"
   ]
  },
  {
   "cell_type": "code",
   "execution_count": 6,
   "id": "edec0a34",
   "metadata": {},
   "outputs": [
    {
     "name": "stderr",
     "output_type": "stream",
     "text": [
      "c:\\Users\\ahmed\\anaconda3\\envs\\transformers\\Lib\\site-packages\\transformers\\training_args.py:1611: FutureWarning: `evaluation_strategy` is deprecated and will be removed in version 4.46 of 🤗 Transformers. Use `eval_strategy` instead\n",
      "  warnings.warn(\n",
      "C:\\Users\\ahmed\\AppData\\Local\\Temp\\ipykernel_40596\\850931785.py:24: FutureWarning: `tokenizer` is deprecated and will be removed in version 5.0.0 for `Seq2SeqTrainer.__init__`. Use `processing_class` instead.\n",
      "  trainer = Seq2SeqTrainer(\n"
     ]
    },
    {
     "name": "stdout",
     "output_type": "stream",
     "text": [
      "\n",
      "Starting the fine-tuning process...\n"
     ]
    },
    {
     "name": "stderr",
     "output_type": "stream",
     "text": [
      "Passing a tuple of `past_key_values` is deprecated and will be removed in Transformers v4.48.0. You should pass an instance of `EncoderDecoderCache` instead, e.g. `past_key_values=EncoderDecoderCache.from_legacy_cache(past_key_values)`.\n"
     ]
    },
    {
     "data": {
      "text/html": [
       "\n",
       "    <div>\n",
       "      \n",
       "      <progress value='11240' max='11240' style='width:300px; height:20px; vertical-align: middle;'></progress>\n",
       "      [11240/11240 1:00:27, Epoch 5/5]\n",
       "    </div>\n",
       "    <table border=\"1\" class=\"dataframe\">\n",
       "  <thead>\n",
       " <tr style=\"text-align: left;\">\n",
       "      <th>Epoch</th>\n",
       "      <th>Training Loss</th>\n",
       "      <th>Validation Loss</th>\n",
       "    </tr>\n",
       "  </thead>\n",
       "  <tbody>\n",
       "    <tr>\n",
       "      <td>1</td>\n",
       "      <td>0.240000</td>\n",
       "      <td>0.195387</td>\n",
       "    </tr>\n",
       "    <tr>\n",
       "      <td>2</td>\n",
       "      <td>0.192800</td>\n",
       "      <td>0.170716</td>\n",
       "    </tr>\n",
       "    <tr>\n",
       "      <td>3</td>\n",
       "      <td>0.163600</td>\n",
       "      <td>0.160836</td>\n",
       "    </tr>\n",
       "    <tr>\n",
       "      <td>4</td>\n",
       "      <td>0.152600</td>\n",
       "      <td>0.156717</td>\n",
       "    </tr>\n",
       "    <tr>\n",
       "      <td>5</td>\n",
       "      <td>0.146100</td>\n",
       "      <td>0.155982</td>\n",
       "    </tr>\n",
       "  </tbody>\n",
       "</table><p>"
      ],
      "text/plain": [
       "<IPython.core.display.HTML object>"
      ]
     },
     "metadata": {},
     "output_type": "display_data"
    },
    {
     "name": "stdout",
     "output_type": "stream",
     "text": [
      "Fine-tuning complete.\n",
      "Saving the fine-tuned model to 'models/flan-t5-base-dv2latin-mihaaru'...\n",
      "Model saved successfully.\n"
     ]
    }
   ],
   "source": [
    "# --- 5. Set up Training ---\n",
    "# Data collator is responsible for creating batches of data\n",
    "data_collator = DataCollatorForSeq2Seq(\n",
    "    tokenizer=tokenizer, \n",
    "    model=model\n",
    ")\n",
    "\n",
    "# Define training arguments\n",
    "training_args = Seq2SeqTrainingArguments(\n",
    "    output_dir=NEW_MODEL_NAME,\n",
    "    evaluation_strategy=\"epoch\",  # Evaluate at the end of each epoch\n",
    "    learning_rate=2e-5,\n",
    "    per_device_train_batch_size=8, # Adjust based on your GPU memory\n",
    "    per_device_eval_batch_size=8,  # Adjust based on your GPU memory\n",
    "    weight_decay=0.01,\n",
    "    save_total_limit=5,\n",
    "    num_train_epochs=5, # Start with 3 epochs and adjust as needed\n",
    "    predict_with_generate=True,\n",
    "    fp16=True, # Use mixed precision for faster training if you have a compatible GPU\n",
    "    push_to_hub=False, # Set to True if you want to upload to Hugging Face Hub\n",
    ")\n",
    "\n",
    "# Initialize the Trainer\n",
    "trainer = Seq2SeqTrainer(\n",
    "    model=model,\n",
    "    args=training_args,\n",
    "    train_dataset=tokenized_datasets[\"train\"],\n",
    "    eval_dataset=tokenized_datasets[\"test\"],\n",
    "    tokenizer=tokenizer,\n",
    "    data_collator=data_collator,\n",
    ")\n",
    "\n",
    "# --- 6. Start Fine-Tuning ---\n",
    "print(\"\\nStarting the fine-tuning process...\")\n",
    "trainer.train()\n",
    "print(\"Fine-tuning complete.\")\n",
    "\n",
    "# --- 7. Save the Fine-Tuned Model ---\n",
    "print(f\"Saving the fine-tuned model to '{NEW_MODEL_NAME}'...\")\n",
    "trainer.save_model(NEW_MODEL_NAME)\n",
    "tokenizer.save_pretrained(NEW_MODEL_NAME)\n",
    "print(\"Model saved successfully.\")"
   ]
  },
  {
   "cell_type": "markdown",
   "id": "545d5581",
   "metadata": {},
   "source": [
    "## Example inference"
   ]
  },
  {
   "cell_type": "code",
   "execution_count": 7,
   "id": "6aff9f3c",
   "metadata": {},
   "outputs": [
    {
     "name": "stdout",
     "output_type": "stream",
     "text": [
      "\n",
      "Source (Dhivehi): އިންޑިއާގައި ފޭކް އެމްބަސީއެއް ހަދައިގެން އުޅުނު މީހަކު ހައްޔަރުކޮށްފި\n",
      "Result (Latin): India gai fake embassy eh hadhaigen ulhunu meehaku hayyaru koffi\n"
     ]
    }
   ],
   "source": [
    "# Load the fine-tuned model and tokenizer\n",
    "fine_tuned_tokenizer = AutoTokenizer.from_pretrained(NEW_MODEL_NAME)\n",
    "fine_tuned_model = T5ForConditionalGeneration.from_pretrained(NEW_MODEL_NAME)\n",
    "\n",
    "# Example text\n",
    "source_text = \"އިންޑިއާގައި ފޭކް އެމްބަސީއެއް ހަދައިގެން އުޅުނު މީހަކު ހައްޔަރުކޮށްފި\"\n",
    "prompt = f\"dv2latin: {source_text.strip()}\"\n",
    "\n",
    "# Generate translation\n",
    "inputs = fine_tuned_tokenizer(prompt, return_tensors=\"pt\")\n",
    "output_ids = fine_tuned_model.generate(**inputs, max_length=128)\n",
    "result = fine_tuned_tokenizer.decode(output_ids[0], skip_special_tokens=True)\n",
    "\n",
    "print(f\"\\nSource (Dhivehi): {source_text}\")\n",
    "print(f\"Result (Latin): {result}\")"
   ]
  },
  {
   "cell_type": "code",
   "execution_count": 9,
   "id": "ba75a75a",
   "metadata": {},
   "outputs": [
    {
     "data": {
      "text/plain": [
       "'India gai fake embassy eh hadhaigen ulhunu meehaku hayyaru koffi'"
      ]
     },
     "execution_count": 9,
     "metadata": {},
     "output_type": "execute_result"
    }
   ],
   "source": [
    "# inference function\n",
    "def transliterate_dhivehi_to_latin(text):\n",
    "    \"\"\"\n",
    "    Transliterates Dhivehi text to Latin script using the fine-tuned model.\n",
    "    \n",
    "    Args:\n",
    "        text (str): The Dhivehi text to transliterate.\n",
    "        \n",
    "    Returns:\n",
    "        str: The transliterated Latin text.\n",
    "    \"\"\"\n",
    "    prompt = f\"dv2latin: {text.strip()}\"\n",
    "    inputs = fine_tuned_tokenizer(prompt, return_tensors=\"pt\")\n",
    "    output_ids = fine_tuned_model.generate(**inputs, max_length=128)\n",
    "    result = fine_tuned_tokenizer.decode(output_ids[0], skip_special_tokens=True)\n",
    "    return result\n",
    "\n",
    "transliterate_dhivehi_to_latin(\"އިންޑިއާގައި ފޭކް އެމްބަސީއެއް ހަދައިގެން އުޅުނު މީހަކު ހައްޔަރުކޮށްފި\")"
   ]
  },
  {
   "cell_type": "code",
   "execution_count": 13,
   "id": "83a2755c",
   "metadata": {},
   "outputs": [
    {
     "name": "stdout",
     "output_type": "stream",
     "text": [
      "\n",
      "Source (Dhivehi): އިންޑިއާގައި ފޭކް އެމްބަސީއެއް ހަދައިގެން އުޅުނު މީހަކު ހައްޔަރުކޮށްފި\n",
      "Result (Latin): India gai fake embassy eh hadhaigen ulhunu meehaku hayyaru koffi\n",
      "\n",
      "Source (Dhivehi): މިއީ ދިވެހި ބަހުން ލިޔެފައިވާ ނަމޫނާ ޖުމްލައެކެވެ.\n",
      "Result (Latin): Miee dhivehi bahun liye namoonaa jumla eh\n",
      "\n",
      "Source (Dhivehi): ކޮންމެ ދުވަހަކުވެސް ފަތިހު ހޭލާށެވެ.\n",
      "Result (Latin): Komme dhuvahaku ves fathihu heyley\n"
     ]
    }
   ],
   "source": [
    "# test running on a batch\n",
    "# Example texts (batch)\n",
    "source_texts = [\n",
    "    \"އިންޑިއާގައި ފޭކް އެމްބަސީއެއް ހަދައިގެން އުޅުނު މީހަކު ހައްޔަރުކޮށްފި\",\n",
    "    \"މިއީ ދިވެހި ބަހުން ލިޔެފައިވާ ނަމޫނާ ޖުމްލައެކެވެ.\",\n",
    "    \"ކޮންމެ ދުވަހަކުވެސް ފަތިހު ހޭލާށެވެ.\"\n",
    "]\n",
    "\n",
    "# Prepare prompts for the batch\n",
    "prompts = [f\"dv2latin: {text.strip()}\" for text in source_texts]\n",
    "\n",
    "# Generate translations for the batch\n",
    "# The tokenizer can handle a list of strings directly for batch processing\n",
    "inputs = fine_tuned_tokenizer(prompts, return_tensors=\"pt\", padding=True, truncation=True)\n",
    "\n",
    "# Generate translations\n",
    "# The generate method will process all inputs in the batch\n",
    "output_ids = fine_tuned_model.generate(**inputs, max_length=128)\n",
    "\n",
    "# Decode results\n",
    "results = [fine_tuned_tokenizer.decode(output_id, skip_special_tokens=True) for output_id in output_ids]\n",
    "\n",
    "# Print source and result for each item in the batch\n",
    "for i in range(len(source_texts)):\n",
    "    print(f\"\\nSource (Dhivehi): {source_texts[i]}\")\n",
    "    print(f\"Result (Latin): {results[i]}\")"
   ]
  }
 ],
 "metadata": {
  "kernelspec": {
   "display_name": "transformers",
   "language": "python",
   "name": "python3"
  },
  "language_info": {
   "codemirror_mode": {
    "name": "ipython",
    "version": 3
   },
   "file_extension": ".py",
   "mimetype": "text/x-python",
   "name": "python",
   "nbconvert_exporter": "python",
   "pygments_lexer": "ipython3",
   "version": "3.11.11"
  }
 },
 "nbformat": 4,
 "nbformat_minor": 5
}
