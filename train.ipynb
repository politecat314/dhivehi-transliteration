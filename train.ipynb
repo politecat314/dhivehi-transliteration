{
 "cells": [
  {
   "cell_type": "code",
   "execution_count": 1,
   "id": "3b0e44de",
   "metadata": {},
   "outputs": [
    {
     "name": "stdout",
     "output_type": "stream",
     "text": [
      "Loading and preparing dataset...\n",
      "Dataset prepared and split:\n",
      "DatasetDict({\n",
      "    train: Dataset({\n",
      "        features: ['latin', 'dhivehi', '__index_level_0__'],\n",
      "        num_rows: 17979\n",
      "    })\n",
      "    test: Dataset({\n",
      "        features: ['latin', 'dhivehi', '__index_level_0__'],\n",
      "        num_rows: 1998\n",
      "    })\n",
      "})\n",
      "Loading tokenizer and model from 'alakxender/flan-t5-base-dhivehi-en-latin'...\n"
     ]
    },
    {
     "name": "stderr",
     "output_type": "stream",
     "text": [
      "You set `add_prefix_space`. The tokenizer needs to be converted from the slow tokenizers\n"
     ]
    },
    {
     "name": "stdout",
     "output_type": "stream",
     "text": [
      "Tokenizing the dataset...\n"
     ]
    },
    {
     "data": {
      "application/vnd.jupyter.widget-view+json": {
       "model_id": "1b5d603532da4bf494e91afd55848164",
       "version_major": 2,
       "version_minor": 0
      },
      "text/plain": [
       "Map:   0%|          | 0/17979 [00:00<?, ? examples/s]"
      ]
     },
     "metadata": {},
     "output_type": "display_data"
    },
    {
     "name": "stderr",
     "output_type": "stream",
     "text": [
      "c:\\Users\\ahmed\\anaconda3\\envs\\transformers\\Lib\\site-packages\\transformers\\tokenization_utils_base.py:3980: UserWarning: `as_target_tokenizer` is deprecated and will be removed in v5 of Transformers. You can tokenize your labels by using the argument `text_target` of the regular `__call__` method (either in the same call as your input texts if you use the same keyword arguments, or in a separate call.\n",
      "  warnings.warn(\n"
     ]
    },
    {
     "data": {
      "application/vnd.jupyter.widget-view+json": {
       "model_id": "f170d8c9ad014b84ab6b9da9db1e9243",
       "version_major": 2,
       "version_minor": 0
      },
      "text/plain": [
       "Map:   0%|          | 0/1998 [00:00<?, ? examples/s]"
      ]
     },
     "metadata": {},
     "output_type": "display_data"
    },
    {
     "name": "stdout",
     "output_type": "stream",
     "text": [
      "Tokenization complete.\n"
     ]
    },
    {
     "name": "stderr",
     "output_type": "stream",
     "text": [
      "c:\\Users\\ahmed\\anaconda3\\envs\\transformers\\Lib\\site-packages\\transformers\\training_args.py:1611: FutureWarning: `evaluation_strategy` is deprecated and will be removed in version 4.46 of 🤗 Transformers. Use `eval_strategy` instead\n",
      "  warnings.warn(\n",
      "C:\\Users\\ahmed\\AppData\\Local\\Temp\\ipykernel_43936\\1461130540.py:105: FutureWarning: `tokenizer` is deprecated and will be removed in version 5.0.0 for `Seq2SeqTrainer.__init__`. Use `processing_class` instead.\n",
      "  trainer = Seq2SeqTrainer(\n"
     ]
    },
    {
     "name": "stdout",
     "output_type": "stream",
     "text": [
      "\n",
      "Starting the fine-tuning process...\n"
     ]
    },
    {
     "name": "stderr",
     "output_type": "stream",
     "text": [
      "Passing a tuple of `past_key_values` is deprecated and will be removed in Transformers v4.48.0. You should pass an instance of `EncoderDecoderCache` instead, e.g. `past_key_values=EncoderDecoderCache.from_legacy_cache(past_key_values)`.\n"
     ]
    },
    {
     "data": {
      "text/html": [
       "\n",
       "    <div>\n",
       "      \n",
       "      <progress value='6744' max='6744' style='width:300px; height:20px; vertical-align: middle;'></progress>\n",
       "      [6744/6744 29:46, Epoch 3/3]\n",
       "    </div>\n",
       "    <table border=\"1\" class=\"dataframe\">\n",
       "  <thead>\n",
       " <tr style=\"text-align: left;\">\n",
       "      <th>Epoch</th>\n",
       "      <th>Training Loss</th>\n",
       "      <th>Validation Loss</th>\n",
       "    </tr>\n",
       "  </thead>\n",
       "  <tbody>\n",
       "    <tr>\n",
       "      <td>1</td>\n",
       "      <td>0.243900</td>\n",
       "      <td>0.196933</td>\n",
       "    </tr>\n",
       "    <tr>\n",
       "      <td>2</td>\n",
       "      <td>0.194400</td>\n",
       "      <td>0.176245</td>\n",
       "    </tr>\n",
       "    <tr>\n",
       "      <td>3</td>\n",
       "      <td>0.175000</td>\n",
       "      <td>0.172525</td>\n",
       "    </tr>\n",
       "  </tbody>\n",
       "</table><p>"
      ],
      "text/plain": [
       "<IPython.core.display.HTML object>"
      ]
     },
     "metadata": {},
     "output_type": "display_data"
    },
    {
     "name": "stdout",
     "output_type": "stream",
     "text": [
      "Fine-tuning complete.\n",
      "Saving the fine-tuned model to 'flan-t5-base-dv2latin-finetuned'...\n",
      "Model saved successfully.\n",
      "\n",
      "--- Testing the fine-tuned model ---\n",
      "\n",
      "Source (Dhivehi): އާ ޓާމިނަލް ހުޅުވަން އެރުވި ހަވާ ދުނިޔޭގެ ރެކޯޑް ފޮތުން ޖާގަ ހޯދައިފި\n",
      "Result (Latin): Aa terminal hulhuvan eruvi havaa dhuniyeyge record fothun jaaga hoadhaifi\n"
     ]
    }
   ],
   "source": [
    "import pandas as pd\n",
    "from datasets import Dataset, DatasetDict\n",
    "from transformers import (\n",
    "    AutoTokenizer,\n",
    "    T5ForConditionalGeneration,\n",
    "    Seq2SeqTrainingArguments,\n",
    "    Seq2SeqTrainer,\n",
    "    DataCollatorForSeq2Seq\n",
    ")\n",
    "\n",
    "def fine_tune_dhivehi_transliterator():\n",
    "    \"\"\"\n",
    "    This script fine-tunes the alakxender/flan-t5-base-dhivehi-en-latin model\n",
    "    for the dv2latin transliteration task.\n",
    "    \"\"\"\n",
    "    # --- 1. Configuration ---\n",
    "    MODEL_CHECKPOINT = \"alakxender/flan-t5-base-dhivehi-en-latin\"\n",
    "    CSV_FILE_PATH = \"training_data.csv\"  # <-- IMPORTANT: Change this to the path of your CSV file\n",
    "    NEW_MODEL_NAME = \"flan-t5-base-dv2latin-finetuned\"\n",
    "    SOURCE_LANG = \"dhivehi\"\n",
    "    TARGET_LANG = \"latin\"\n",
    "    PREFIX = \"dv2latin: \"\n",
    "    \n",
    "    # --- 2. Load and Prepare the Dataset ---\n",
    "    print(\"Loading and preparing dataset...\")\n",
    "    \n",
    "    # Load your data from the CSV file\n",
    "    try:\n",
    "        df = pd.read_csv(CSV_FILE_PATH)\n",
    "    except FileNotFoundError:\n",
    "        print(f\"Error: The file '{CSV_FILE_PATH}' was not found.\")\n",
    "        print(\"Please create this file in the specified format or update the CSV_FILE_PATH variable.\")\n",
    "\n",
    "    # --- FIX STARTS HERE ---\n",
    "    # Clean the data: remove rows with missing values and ensure data is string type\n",
    "    df.dropna(subset=[SOURCE_LANG, TARGET_LANG], inplace=True)\n",
    "    df[SOURCE_LANG] = df[SOURCE_LANG].astype(str)\n",
    "    df[TARGET_LANG] = df[TARGET_LANG].astype(str)\n",
    "    # --- FIX ENDS HERE ---\n",
    "\n",
    "    # Convert pandas DataFrame to Hugging Face Dataset\n",
    "    raw_dataset = Dataset.from_pandas(df)\n",
    "\n",
    "    # Split the dataset into training and testing sets (e.g., 90% train, 10% test)\n",
    "    train_test_split = raw_dataset.train_test_split(test_size=0.1)\n",
    "    \n",
    "    # Create a DatasetDict which is the standard format\n",
    "    dataset = DatasetDict({\n",
    "        'train': train_test_split['train'],\n",
    "        'test': train_test_split['test']\n",
    "    })\n",
    "    \n",
    "    print(\"Dataset prepared and split:\")\n",
    "    print(dataset)\n",
    "\n",
    "    # --- 3. Load Tokenizer and Model ---\n",
    "    print(f\"Loading tokenizer and model from '{MODEL_CHECKPOINT}'...\")\n",
    "    tokenizer = AutoTokenizer.from_pretrained(MODEL_CHECKPOINT)\n",
    "    model = T5ForConditionalGeneration.from_pretrained(MODEL_CHECKPOINT)\n",
    "\n",
    "    # --- 4. Preprocessing Function ---\n",
    "    def preprocess_function(examples):\n",
    "        \"\"\"Tokenizes the source and target texts.\"\"\"\n",
    "        # Add the task-specific prefix to the inputs\n",
    "        inputs = [PREFIX + doc for doc in examples[SOURCE_LANG]]\n",
    "        \n",
    "        # Tokenize the inputs\n",
    "        model_inputs = tokenizer(inputs, max_length=128, truncation=True, padding=\"max_length\")\n",
    "        \n",
    "        # Tokenize the targets (labels)\n",
    "        with tokenizer.as_target_tokenizer():\n",
    "            labels = tokenizer(examples[TARGET_LANG], max_length=128, truncation=True, padding=\"max_length\")\n",
    "        \n",
    "        model_inputs[\"labels\"] = labels[\"input_ids\"]\n",
    "        return model_inputs\n",
    "\n",
    "    print(\"Tokenizing the dataset...\")\n",
    "    tokenized_datasets = dataset.map(preprocess_function, batched=True)\n",
    "    print(\"Tokenization complete.\")\n",
    "\n",
    "    # --- 5. Set up Training ---\n",
    "    \n",
    "    # Data collator is responsible for creating batches of data\n",
    "    data_collator = DataCollatorForSeq2Seq(\n",
    "        tokenizer=tokenizer, \n",
    "        model=model\n",
    "    )\n",
    "\n",
    "    # Define training arguments\n",
    "    training_args = Seq2SeqTrainingArguments(\n",
    "        output_dir=NEW_MODEL_NAME,\n",
    "        evaluation_strategy=\"epoch\",  # Evaluate at the end of each epoch\n",
    "        learning_rate=2e-5,\n",
    "        per_device_train_batch_size=8, # Adjust based on your GPU memory\n",
    "        per_device_eval_batch_size=8,  # Adjust based on your GPU memory\n",
    "        weight_decay=0.01,\n",
    "        save_total_limit=3,\n",
    "        num_train_epochs=3, # Start with 3 epochs and adjust as needed\n",
    "        predict_with_generate=True,\n",
    "        fp16=True, # Use mixed precision for faster training if you have a compatible GPU\n",
    "        push_to_hub=False, # Set to True if you want to upload to Hugging Face Hub\n",
    "    )\n",
    "\n",
    "    # Initialize the Trainer\n",
    "    trainer = Seq2SeqTrainer(\n",
    "        model=model,\n",
    "        args=training_args,\n",
    "        train_dataset=tokenized_datasets[\"train\"],\n",
    "        eval_dataset=tokenized_datasets[\"test\"],\n",
    "        tokenizer=tokenizer,\n",
    "        data_collator=data_collator,\n",
    "    )\n",
    "\n",
    "    # --- 6. Start Fine-Tuning ---\n",
    "    print(\"\\nStarting the fine-tuning process...\")\n",
    "    trainer.train()\n",
    "    print(\"Fine-tuning complete.\")\n",
    "\n",
    "    # --- 7. Save the Fine-Tuned Model ---\n",
    "    print(f\"Saving the fine-tuned model to '{NEW_MODEL_NAME}'...\")\n",
    "    trainer.save_model(NEW_MODEL_NAME)\n",
    "    tokenizer.save_pretrained(NEW_MODEL_NAME)\n",
    "    print(\"Model saved successfully.\")\n",
    "\n",
    "    # --- 8. Example Usage of the Fine-Tuned Model ---\n",
    "    print(\"\\n--- Testing the fine-tuned model ---\")\n",
    "    \n",
    "    # Load the fine-tuned model and tokenizer\n",
    "    fine_tuned_tokenizer = AutoTokenizer.from_pretrained(NEW_MODEL_NAME)\n",
    "    fine_tuned_model = T5ForConditionalGeneration.from_pretrained(NEW_MODEL_NAME)\n",
    "    \n",
    "    # Example text\n",
    "    source_text = \"އާ ޓާމިނަލް ހުޅުވަން އެރުވި ހަވާ ދުނިޔޭގެ ރެކޯޑް ފޮތުން ޖާގަ ހޯދައިފި\"\n",
    "    prompt = f\"dv2latin: {source_text.strip()}\"\n",
    "    \n",
    "    # Generate translation\n",
    "    inputs = fine_tuned_tokenizer(prompt, return_tensors=\"pt\")\n",
    "    output_ids = fine_tuned_model.generate(**inputs, max_length=128)\n",
    "    result = fine_tuned_tokenizer.decode(output_ids[0], skip_special_tokens=True)\n",
    "    \n",
    "    print(f\"\\nSource (Dhivehi): {source_text}\")\n",
    "    print(f\"Result (Latin): {result}\")\n",
    "\n",
    "\n",
    "if __name__ == '__main__':\n",
    "    # Before running, make sure you have the required libraries installed:\n",
    "    # pip install transformers[torch] datasets pandas sentencepiece accelerate\n",
    "    fine_tune_dhivehi_transliterator()"
   ]
  },
  {
   "cell_type": "code",
   "execution_count": 4,
   "id": "6aff9f3c",
   "metadata": {},
   "outputs": [
    {
     "name": "stdout",
     "output_type": "stream",
     "text": [
      "\n",
      "Source (Dhivehi): އިޒްރޭލު\n",
      "Result (Latin): Israel\n"
     ]
    }
   ],
   "source": [
    "NEW_MODEL_NAME = \"flan-t5-base-dv2latin-finetuned\"\n",
    "\n",
    "# Load the fine-tuned model and tokenizer\n",
    "fine_tuned_tokenizer = AutoTokenizer.from_pretrained(NEW_MODEL_NAME)\n",
    "fine_tuned_model = T5ForConditionalGeneration.from_pretrained(NEW_MODEL_NAME)\n",
    "\n",
    "# Example text\n",
    "source_text = \"އިޒްރޭލު\"\n",
    "prompt = f\"dv2latin: {source_text.strip()}\"\n",
    "\n",
    "# Generate translation\n",
    "inputs = fine_tuned_tokenizer(prompt, return_tensors=\"pt\")\n",
    "output_ids = fine_tuned_model.generate(**inputs, max_length=128)\n",
    "result = fine_tuned_tokenizer.decode(output_ids[0], skip_special_tokens=True)\n",
    "\n",
    "print(f\"\\nSource (Dhivehi): {source_text}\")\n",
    "print(f\"Result (Latin): {result}\")"
   ]
  },
  {
   "cell_type": "code",
   "execution_count": null,
   "id": "714b9202",
   "metadata": {},
   "outputs": [],
   "source": []
  }
 ],
 "metadata": {
  "kernelspec": {
   "display_name": "transformers",
   "language": "python",
   "name": "python3"
  },
  "language_info": {
   "codemirror_mode": {
    "name": "ipython",
    "version": 3
   },
   "file_extension": ".py",
   "mimetype": "text/x-python",
   "name": "python",
   "nbconvert_exporter": "python",
   "pygments_lexer": "ipython3",
   "version": "3.11.11"
  }
 },
 "nbformat": 4,
 "nbformat_minor": 5
}
