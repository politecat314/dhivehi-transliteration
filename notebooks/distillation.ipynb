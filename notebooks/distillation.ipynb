{
 "cells": [
  {
   "cell_type": "code",
   "execution_count": null,
   "id": "2562c0d3",
   "metadata": {},
   "outputs": [],
   "source": [
    "import pandas as pd\n",
    "\n",
    "dataset_path = \"C:/Users/ahmed/Documents/TheCircle/title_articles/archive_articles_dhivehi_cleaned.csv\"\n",
    "df_big = pd.read_csv(dataset_path, encoding='utf-8')\n",
    "df_big"
   ]
  },
  {
   "cell_type": "code",
   "execution_count": null,
   "id": "dd7e1894",
   "metadata": {},
   "outputs": [],
   "source": [
    "# inference function\n",
    "def transliterate_dhivehi_to_latin(text):\n",
    "    \"\"\"\n",
    "    Transliterates Dhivehi text to Latin script using the fine-tuned model.\n",
    "    \n",
    "    Args:\n",
    "        text (str): The Dhivehi text to transliterate.\n",
    "        \n",
    "    Returns:\n",
    "        str: The transliterated Latin text.\n",
    "    \"\"\"\n",
    "    prompt = f\"dv2latin: {text.strip()}\"\n",
    "    inputs = fine_tuned_tokenizer(prompt, return_tensors=\"pt\")\n",
    "    output_ids = fine_tuned_model.generate(**inputs, max_length=128)\n",
    "    result = fine_tuned_tokenizer.decode(output_ids[0], skip_special_tokens=True)\n",
    "    return result\n",
    "\n",
    "transliterate_dhivehi_to_latin(\"އިންޑިއާގައި ފޭކް އެމްބަސީއެއް ހަދައިގެން އުޅުނު މީހަކު ހައްޔަރުކޮށްފި\")"
   ]
  },
  {
   "cell_type": "code",
   "execution_count": null,
   "id": "bd87c5c9",
   "metadata": {},
   "outputs": [],
   "source": [
    "from tqdm import tqdm\n",
    "\n",
    "article_titles = df_big['title'].tolist()\n",
    "transliterated_titles = []\n",
    "\n",
    "for title in tqdm(article_titles[:100]):\n",
    "    transliterated_title = transliterate_dhivehi_to_latin(title)\n",
    "    transliterated_titles.append(transliterated_title)\n",
    "\n",
    "# save the transliterated titles to a new DataFrame\n",
    "df_transliterated = pd.DataFrame({\n",
    "    'dhivehi': article_titles[:100],\n",
    "    'latin': transliterated_titles\n",
    "})\n",
    "\n",
    "# save the DataFrame to a CSV file\n",
    "output_path = \"data/distillation_data.csv\"\n",
    "df_transliterated.to_csv(output_path, index=False, encoding='utf-8')"
   ]
  }
 ],
 "metadata": {
  "language_info": {
   "name": "python"
  }
 },
 "nbformat": 4,
 "nbformat_minor": 5
}
